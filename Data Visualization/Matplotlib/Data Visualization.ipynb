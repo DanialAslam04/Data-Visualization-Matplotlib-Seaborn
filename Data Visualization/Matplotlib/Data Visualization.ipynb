{
 "cells": [
  {
   "cell_type": "markdown",
   "id": "f8f5e170",
   "metadata": {},
   "source": [
    "# Data Visualizaion "
   ]
  },
  {
   "cell_type": "markdown",
   "id": "163189e1",
   "metadata": {},
   "source": [
    "Data visualization is the practice of translating information into a visual context, such as a map or graph, to make data easier for the human brain to understand and pull insights from"
   ]
  },
  {
   "cell_type": "markdown",
   "id": "526763c7",
   "metadata": {},
   "source": [
    "## Matplotlib"
   ]
  },
  {
   "cell_type": "markdown",
   "id": "f26b55ab",
   "metadata": {},
   "source": [
    " Matplotlib is the \"grandfather\" library of data visualization with Python. It was created by John Hunter. He created it to try to replicate MatLab's (another programming language) plotting capabilities in Python. It is an excellent 2D and 3D graphics library for generating scientific figures."
   ]
  },
  {
   "cell_type": "code",
   "execution_count": 10,
   "id": "327e96c7",
   "metadata": {},
   "outputs": [],
   "source": [
    "import matplotlib.pyplot as plt\n",
    "import numpy as np"
   ]
  },
  {
   "cell_type": "code",
   "execution_count": 6,
   "id": "5ec87fc9",
   "metadata": {},
   "outputs": [
    {
     "data": {
      "text/plain": [
       "array([0, 1, 2, 3, 4, 5, 6, 7, 8, 9])"
      ]
     },
     "execution_count": 6,
     "metadata": {},
     "output_type": "execute_result"
    }
   ],
   "source": [
    "x=np.arange(0,10)\n",
    "x"
   ]
  },
  {
   "cell_type": "code",
   "execution_count": 8,
   "id": "6e30ba34",
   "metadata": {},
   "outputs": [
    {
     "data": {
      "text/plain": [
       "array([ 0,  2,  4,  6,  8, 10, 12, 14, 16, 18])"
      ]
     },
     "execution_count": 8,
     "metadata": {},
     "output_type": "execute_result"
    }
   ],
   "source": [
    "y=2*x\n",
    "y"
   ]
  },
  {
   "cell_type": "markdown",
   "id": "600ae459",
   "metadata": {},
   "source": [
    "### Basic Matplotlib Commands"
   ]
  },
  {
   "cell_type": "code",
   "execution_count": 24,
   "id": "406792ce",
   "metadata": {},
   "outputs": [
    {
     "data": {
      "image/png": "[encoded data removed]",
      "text/plain": [
       "<Figure size 432x288 with 1 Axes>"
      ]
     },
     "metadata": {
      "needs_background": "light"
     },
     "output_type": "display_data"
    }
   ],
   "source": [
    "plt.plot(x,y)\n",
    "plt.xlabel('X-Axis')\n",
    "plt.ylabel('Y-Axis')\n",
    "plt.title('Y=2*X')\n",
    "plt.xlim(0,7)\n",
    "plt.ylim(0,16);\n",
    "plt.savefig('firsplot.png');"
   ]
  },
  {
   "cell_type": "code",
   "execution_count": null,
   "id": "e5269fda",
   "metadata": {},
   "outputs": [],
   "source": []
  },
  {
   "cell_type": "code",
   "execution_count": null,
   "id": "1a13fa6e",
   "metadata": {},
   "outputs": [],
   "source": []
  },
  {
   "cell_type": "code",
   "execution_count": null,
   "id": "58252d61",
   "metadata": {},
   "outputs": [],
   "source": []
  }
 ],
 "metadata": {
  "kernelspec": {
   "display_name": "Python 3 (ipykernel)",
   "language": "python",
   "name": "python3"
  },
  "language_info": {
   "codemirror_mode": {
    "name": "ipython",
    "version": 3
   },
   "file_extension": ".py",
   "mimetype": "text/x-python",
   "name": "python",
   "nbconvert_exporter": "python",
   "pygments_lexer": "ipython3",
   "version": "3.9.7"
  }
 },
 "nbformat": 4,
 "nbformat_minor": 5
}
